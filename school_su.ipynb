{
 "cells": [
  {
   "cell_type": "code",
   "execution_count": 11,
   "metadata": {},
   "outputs": [],
   "source": [
    "import pandas as pd\n",
    "import re\n",
    "\n",
    "\n",
    "df = pd.read_excel('초중고등학교_유형별공사비' + '.xlsx')\n",
    "\n",
    "# 정규 표현식을 정의합니다.\n",
    "patterns = {\n",
    "    '유': re.compile(r'유'),\n",
    "    '초': re.compile(r'초'),\n",
    "    '중': re.compile(r'중'),\n",
    "    '고': re.compile(r'고'),\n",
    "    '특': re.compile(r'특수학교')\n",
    "}\n",
    "\n",
    "_list = []\n",
    "for idx, row in df.iterrows():\n",
    "    df.loc[idx, '년도'] = str(row['공고일자'])[0:4]\n",
    "    \n",
    "    공사명 = str(row['공사명'])\n",
    "    vals = []\n",
    "    \n",
    "    # 패턴을 이용하여 '초', '중', '고', '유', '특' 찾기\n",
    "    if patterns['유'].search(공사명):\n",
    "        vals.append('유')\n",
    "    if patterns['초'].search(공사명):\n",
    "        vals.append('초')\n",
    "    if patterns['중'].search(공사명):\n",
    "        vals.append('중')\n",
    "    if patterns['고'].search(공사명):\n",
    "        vals.append('고')\n",
    "    if patterns['특'].search(공사명):\n",
    "        vals.append('특')\n",
    "    \n",
    "    df.loc[idx, '약어'] = ' | '.join(vals)\n",
    "\n",
    "    if df.loc[idx, '약어']: _list.append(df.loc[idx])\n",
    "\n",
    "df = pd.DataFrame(_list)\n",
    "_cols = [\n",
    "    '년도', '유형', '공사명', '지역', '구조', '지하', '지상', '연면적(㎡)', '공사비',\n",
    "    '단위면적당 공사비(원/㎡)', '계약금액', '공고일자', '약어'\n",
    "]\n",
    "df = df[_cols]\n",
    "df.to_excel('(가공)초중고등학교_유형별공사비' + '.xlsx', index=False)\n"
   ]
  }
 ],
 "metadata": {
  "kernelspec": {
   "display_name": "base",
   "language": "python",
   "name": "python3"
  },
  "language_info": {
   "codemirror_mode": {
    "name": "ipython",
    "version": 3
   },
   "file_extension": ".py",
   "mimetype": "text/x-python",
   "name": "python",
   "nbconvert_exporter": "python",
   "pygments_lexer": "ipython3",
   "version": "3.11.4"
  }
 },
 "nbformat": 4,
 "nbformat_minor": 2
}
